{
 "cells": [
  {
   "cell_type": "markdown",
   "id": "f7c67f15",
   "metadata": {},
   "source": [
    "# Apply Benchmark alg to Instances"
   ]
  },
  {
   "cell_type": "code",
   "execution_count": 1,
   "id": "a2b4bbd1",
   "metadata": {
    "code_folding": []
   },
   "outputs": [
    {
     "name": "stdout",
     "output_type": "stream",
     "text": [
      "./Numeric-Record-Delta_0p15/\n"
     ]
    }
   ],
   "source": [
    "# %% import packages\n",
    "import sys\n",
    "import os\n",
    "import pandas as pd\n",
    "import numpy as np\n",
    "import matplotlib.pyplot as plt\n",
    "from tqdm import tqdm\n",
    "from sklearn.model_selection import ParameterGrid\n",
    "\n",
    "sys.path.append(\"./source/\")\n",
    "\n",
    "from source.agent_Kano import HDoC_Kano, LUCB_G_Kano\n",
    "from source.agent_lilHDoC import lilHDoC\n",
    "from source.agent_AdaptedTaS_new import Adapted_TaS_new\n",
    "from source.agent_MS import MS\n",
    "\n",
    "from source.utils import Linear, Unique_Qualified, OneQuarter_Qualified, AllWorse, AllGood, HalfGood, Experiment\n",
    "from source.env import Environment_Gaussian\n",
    "\n",
    "Delta = 0.15\n",
    "Delta_str = str(Delta).replace(\".\", \"p\")\n",
    "filefolder = \"./Numeric-Record-Delta_\"+ Delta_str + \"/\"\n",
    "print(filefolder)\n",
    "if not os.path.isdir(filefolder):\n",
    "    os.mkdir(filefolder)"
   ]
  },
  {
   "cell_type": "code",
   "execution_count": null,
   "id": "049625f6",
   "metadata": {
    "code_folding": []
   },
   "outputs": [],
   "source": [
    "# %% specify parameter types\n",
    "instance_type_ = [Linear, Unique_Qualified, OneQuarter_Qualified, AllWorse, AllGood, HalfGood]\n",
    "agent_class_ = [HDoC_Kano, LUCB_G_Kano, lilHDoC]\n",
    "\n",
    "K_ = [10, 150, 100, 50, 40, 30, 20, 200]\n",
    "delta_ = [0.001, 0.0001]\n",
    "\n",
    "env_ = [Environment_Gaussian]\n",
    "n_exp = 1000\n",
    "xi = 0.5\n",
    "\n",
    "experiment_grid = ParameterGrid(\n",
    "    {\n",
    "        \"instance_type\": instance_type_,\n",
    "        \"agent\": agent_class_,\n",
    "        \"env\": env_,\n",
    "        \"delta\": delta_,\n",
    "        \"K\": K_,\n",
    "    }\n",
    ")"
   ]
  },
  {
   "cell_type": "code",
   "execution_count": null,
   "id": "eaf844b8",
   "metadata": {
    "code_folding": [],
    "scrolled": false
   },
   "outputs": [],
   "source": [
    "for exp_setting_id, experiment in enumerate(experiment_grid):\n",
    "    K = experiment[\"K\"]\n",
    "    delta = experiment[\"delta\"]\n",
    "    if experiment[\"instance_type\"]==AllWorse:\n",
    "        inst_fun = experiment[\"instance_type\"]\n",
    "        rlist = inst_fun(K, Delta=0.25)\n",
    "    else:\n",
    "        inst_fun = experiment[\"instance_type\"]\n",
    "        rlist = inst_fun(K, Delta=Delta)\n",
    "    \n",
    "\n",
    "    env_class = experiment[\"env\"]\n",
    "    agent_class = experiment[\"agent\"]\n",
    "\n",
    "    numeric_record = pd.DataFrame(\n",
    "        columns=[\n",
    "            \"K\",\n",
    "            \"n_experiment\",\n",
    "            \"delta\",\n",
    "            \"instance_type\",\n",
    "            \"env\",\n",
    "            \"agent\",\n",
    "            \"success_rate\",\n",
    "            \"reward_array\",\n",
    "            \"mean_stop_times\",\n",
    "            \"std_stop_times\",\n",
    "            \"forced-stop\",\n",
    "            \"count_exceed_stop\",\n",
    "            \"count_success\",\n",
    "        ]\n",
    "    )\n",
    "    stop_benchmark = 1e8\n",
    "        \n",
    "    if inst_fun.__name__ == \"AllWorse\" and agent_class.__name__==\"MS\":\n",
    "        continue\n",
    "        \n",
    "    mean_stop_time, std_stop_time, mean_success, _, _, count_exceed_stop, count_success = Experiment(\n",
    "        rlist=rlist,\n",
    "        delta=delta,\n",
    "        K=K,\n",
    "        xi=xi,\n",
    "        env_class=env_class,\n",
    "        agent_class=agent_class,\n",
    "        random_seed_for_start=42,\n",
    "        n_exp=n_exp,\n",
    "        stop_benchmark=stop_benchmark,\n",
    "        disable_tqdm=False,\n",
    "    )\n",
    "    filename = filefolder + agent_class.__name__ + \".csv\"\n",
    "    numeric_record.loc[0] = np.array(\n",
    "        [\n",
    "            K,\n",
    "            n_exp,\n",
    "            delta,\n",
    "            inst_fun.__name__,\n",
    "            env_class.__name__,\n",
    "            agent_class.__name__,\n",
    "            mean_success,\n",
    "            np.array2string(rlist, threshold=11e3),\n",
    "            mean_stop_time,\n",
    "            std_stop_time,\n",
    "            stop_benchmark,\n",
    "            count_exceed_stop,\n",
    "            count_success\n",
    "        ],\n",
    "        dtype=object,\n",
    "    )\n",
    "    numeric_record.to_csv(filename, mode=\"a\", index=False, header=not os.path.exists(filename))\n",
    "    print(\n",
    "        f\"{inst_fun.__name__}, {agent_class.__name__}, {env_class.__name__}, {K},{delta}, {exp_setting_id+1}/{len(experiment_grid)} done, stop {mean_stop_time}, success {mean_success}\"\n",
    "    )"
   ]
  },
  {
   "cell_type": "code",
   "execution_count": null,
   "id": "7d5cd8d0",
   "metadata": {},
   "outputs": [],
   "source": []
  },
  {
   "cell_type": "code",
   "execution_count": null,
   "id": "13279cbb",
   "metadata": {},
   "outputs": [],
   "source": []
  }
 ],
 "metadata": {
  "kernelspec": {
   "display_name": "Python 3 (ipykernel)",
   "language": "python",
   "name": "python3"
  },
  "language_info": {
   "codemirror_mode": {
    "name": "ipython",
    "version": 3
   },
   "file_extension": ".py",
   "mimetype": "text/x-python",
   "name": "python",
   "nbconvert_exporter": "python",
   "pygments_lexer": "ipython3",
   "version": "3.9.21"
  },
  "varInspector": {
   "cols": {
    "lenName": 16,
    "lenType": 16,
    "lenVar": 40
   },
   "kernels_config": {
    "python": {
     "delete_cmd_postfix": "",
     "delete_cmd_prefix": "del ",
     "library": "var_list.py",
     "varRefreshCmd": "print(var_dic_list())"
    },
    "r": {
     "delete_cmd_postfix": ") ",
     "delete_cmd_prefix": "rm(",
     "library": "var_list.r",
     "varRefreshCmd": "cat(var_dic_list()) "
    }
   },
   "types_to_exclude": [
    "module",
    "function",
    "builtin_function_or_method",
    "instance",
    "_Feature"
   ],
   "window_display": false
  }
 },
 "nbformat": 4,
 "nbformat_minor": 5
}
